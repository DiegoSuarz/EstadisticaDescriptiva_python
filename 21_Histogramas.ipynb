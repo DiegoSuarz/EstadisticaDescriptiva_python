{
 "cells": [
  {
   "cell_type": "markdown",
   "metadata": {},
   "source": [
    "# Histogramas en python:"
   ]
  },
  {
   "cell_type": "code",
   "execution_count": 1,
   "metadata": {},
   "outputs": [
    {
     "data": {
      "text/plain": [
       "(0, 1, 1, 1, 2, 2, 3, 7, 7, 7, 25)"
      ]
     },
     "execution_count": 1,
     "metadata": {},
     "output_type": "execute_result"
    }
   ],
   "source": [
    "x = (0,1,1,1,2,2,3,7,7,7,25) \n",
    "x"
   ]
  },
  {
   "cell_type": "code",
   "execution_count": 2,
   "metadata": {},
   "outputs": [],
   "source": [
    "def count_elements(seq) -> dict:\n",
    "    \"\"\"\n",
    "    Funcion que cuenta las frecuencias de aparicion\n",
    "    de cada elemento de la secuencia, creando un \n",
    "    diccionario como si fuese una tabla de frecuencias    \n",
    "    \"\"\"\n",
    "    hist = {}\n",
    "    for i in seq:\n",
    "        hist[i] = hist.get(i,0) + 1\n",
    "    return hist"
   ]
  },
  {
   "cell_type": "code",
   "execution_count": 3,
   "metadata": {},
   "outputs": [
    {
     "data": {
      "text/plain": [
       "{0: 1, 1: 3, 2: 2, 3: 1, 7: 3, 25: 1}"
      ]
     },
     "execution_count": 3,
     "metadata": {},
     "output_type": "execute_result"
    }
   ],
   "source": [
    "fAbs = count_elements(x)\n",
    "fAbs"
   ]
  },
  {
   "cell_type": "code",
   "execution_count": 4,
   "metadata": {},
   "outputs": [
    {
     "data": {
      "text/plain": [
       "Counter({1: 3, 7: 3, 2: 2, 0: 1, 3: 1, 25: 1})"
      ]
     },
     "execution_count": 4,
     "metadata": {},
     "output_type": "execute_result"
    }
   ],
   "source": [
    "from collections import Counter\n",
    "fAbs2 = Counter(x)\n",
    "fAbs2"
   ]
  },
  {
   "cell_type": "code",
   "execution_count": 5,
   "metadata": {},
   "outputs": [
    {
     "data": {
      "text/plain": [
       "True"
      ]
     },
     "execution_count": 5,
     "metadata": {},
     "output_type": "execute_result"
    }
   ],
   "source": [
    "fAbs.items() == fAbs2.items()"
   ]
  },
  {
   "cell_type": "code",
   "execution_count": 12,
   "metadata": {},
   "outputs": [
    {
     "name": "stdout",
     "output_type": "stream",
     "text": [
      "    0 +\n",
      "    1 +++\n",
      "    2 ++\n",
      "    3 +\n",
      "    7 +++\n",
      "   25 +\n"
     ]
    }
   ],
   "source": [
    "def ascii_histogram(seq) -> None:\n",
    "    \"\"\"\n",
    "    Un histograma de frecuencias absolutas\n",
    "    colocando en horizontal y con caracteres ASCII\n",
    "    \"\"\"\n",
    "\n",
    "    fAbs = count_elements(seq)\n",
    "    for k in sorted(fAbs):\n",
    "        print('{0:5d} {1}'.format(k, '+'*fAbs[k]))\n",
    "\n",
    "asii_histogram(x)"
   ]
  },
  {
   "cell_type": "code",
   "execution_count": 11,
   "metadata": {},
   "outputs": [
    {
     "data": {
      "text/plain": [
       "[1,\n",
       " 1,\n",
       " 1,\n",
       " 1,\n",
       " 1,\n",
       " 1,\n",
       " 1,\n",
       " 1,\n",
       " 1,\n",
       " 2,\n",
       " 2,\n",
       " 2,\n",
       " 2,\n",
       " 2,\n",
       " 2,\n",
       " 2,\n",
       " 2,\n",
       " 2,\n",
       " 2,\n",
       " 2,\n",
       " 2,\n",
       " 3,\n",
       " 3,\n",
       " 3,\n",
       " 3,\n",
       " 3,\n",
       " 3,\n",
       " 3,\n",
       " 3,\n",
       " 3,\n",
       " 3,\n",
       " 3,\n",
       " 3,\n",
       " 3,\n",
       " 3,\n",
       " 3,\n",
       " 3,\n",
       " 3,\n",
       " 3,\n",
       " 3,\n",
       " 3,\n",
       " 5,\n",
       " 5,\n",
       " 5,\n",
       " 5,\n",
       " 5,\n",
       " 5,\n",
       " 5,\n",
       " 5,\n",
       " 5,\n",
       " 5,\n",
       " 7,\n",
       " 7,\n",
       " 7,\n",
       " 7,\n",
       " 7,\n",
       " 7,\n",
       " 7,\n",
       " 7,\n",
       " 7,\n",
       " 7,\n",
       " 7,\n",
       " 7,\n",
       " 8,\n",
       " 8,\n",
       " 8,\n",
       " 8,\n",
       " 8,\n",
       " 8,\n",
       " 8,\n",
       " 8,\n",
       " 8,\n",
       " 8,\n",
       " 8,\n",
       " 8,\n",
       " 9,\n",
       " 9,\n",
       " 9,\n",
       " 9,\n",
       " 9,\n",
       " 9,\n",
       " 9,\n",
       " 9,\n",
       " 9,\n",
       " 9,\n",
       " 9,\n",
       " 9,\n",
       " 9,\n",
       " 9,\n",
       " 9,\n",
       " 10,\n",
       " 10,\n",
       " 10,\n",
       " 10,\n",
       " 10,\n",
       " 10,\n",
       " 10,\n",
       " 10,\n",
       " 10,\n",
       " 10,\n",
       " 10,\n",
       " 10,\n",
       " 10,\n",
       " 10]"
      ]
     },
     "execution_count": 11,
     "metadata": {},
     "output_type": "execute_result"
    }
   ],
   "source": [
    "import random\n",
    "random.seed(2019)\n",
    "\n",
    "vals = [1,2,3,5,7,8,9,10]\n",
    "freqs = (random.randint(5,20) for _ in vals)\n",
    "\n",
    "data = []\n",
    "for k, v in zip(vals, freqs):\n",
    "    data.extend([k]*v)\n",
    "data"
   ]
  },
  {
   "cell_type": "code",
   "execution_count": 13,
   "metadata": {},
   "outputs": [
    {
     "name": "stdout",
     "output_type": "stream",
     "text": [
      "    1 +++++++++\n",
      "    2 ++++++++++++\n",
      "    3 ++++++++++++++++++++\n",
      "    5 ++++++++++\n",
      "    7 ++++++++++++\n",
      "    8 ++++++++++++\n",
      "    9 +++++++++++++++\n",
      "   10 ++++++++++++++\n"
     ]
    }
   ],
   "source": [
    "ascii_histogram(data)"
   ]
  },
  {
   "cell_type": "markdown",
   "metadata": {},
   "source": [
    "## Histogramas con Numpy"
   ]
  },
  {
   "cell_type": "code",
   "execution_count": 14,
   "metadata": {},
   "outputs": [],
   "source": [
    "import numpy as np\n",
    "\n",
    "np.random.seed(2019)\n",
    "np.set_printoptions(precision=3) #numeros decimales con 3 digitos de precision"
   ]
  },
  {
   "cell_type": "code",
   "execution_count": 15,
   "metadata": {},
   "outputs": [
    {
     "data": {
      "text/plain": [
       "array([14.935,  9.278, 10.855, 10.968, 14.294,  8.459, 11.555, 14.926,\n",
       "       14.316,  9.373])"
      ]
     },
     "execution_count": 15,
     "metadata": {},
     "output_type": "execute_result"
    }
   ],
   "source": [
    "x = np.random.laplace(loc = 10, scale = 3, size=1000)\n",
    "x[:10]"
   ]
  },
  {
   "cell_type": "code",
   "execution_count": 16,
   "metadata": {},
   "outputs": [
    {
     "data": {
      "text/plain": [
       "array([  1,   0,   0,   8,  48, 194, 542, 167,  31,   9])"
      ]
     },
     "execution_count": 16,
     "metadata": {},
     "output_type": "execute_result"
    }
   ],
   "source": [
    "hist, bin_edges = np.histogram(x)\n",
    "hist"
   ]
  },
  {
   "cell_type": "code",
   "execution_count": 17,
   "metadata": {},
   "outputs": [
    {
     "data": {
      "text/plain": [
       "array([-19.167, -14.642, -10.118,  -5.593,  -1.069,   3.455,   7.98 ,\n",
       "        12.504,  17.029,  21.553,  26.077])"
      ]
     },
     "execution_count": 17,
     "metadata": {},
     "output_type": "execute_result"
    }
   ],
   "source": [
    "bin_edges"
   ]
  },
  {
   "cell_type": "code",
   "execution_count": 18,
   "metadata": {},
   "outputs": [
    {
     "data": {
      "text/plain": [
       "(10, 11)"
      ]
     },
     "execution_count": 18,
     "metadata": {},
     "output_type": "execute_result"
    }
   ],
   "source": [
    "hist.size, bin_edges.size # 10 divisiones"
   ]
  },
  {
   "cell_type": "code",
   "execution_count": 20,
   "metadata": {},
   "outputs": [
    {
     "data": {
      "text/plain": [
       "array([-19.167, -14.642, -10.118,  -5.593,  -1.069,   3.455,   7.98 ,\n",
       "        12.504,  17.029,  21.553,  26.077])"
      ]
     },
     "execution_count": 20,
     "metadata": {},
     "output_type": "execute_result"
    }
   ],
   "source": [
    "min_edge = x.min()\n",
    "max_edge = x.max()\n",
    "\n",
    "n_bins = 10\n",
    "bin_edges = np.linspace(start=min_edge, stop=max_edge, num= n_bins+1, endpoint=True)\n",
    "bin_edges"
   ]
  },
  {
   "cell_type": "code",
   "execution_count": 23,
   "metadata": {},
   "outputs": [
    {
     "data": {
      "text/plain": [
       "array([1, 3, 2, 1, 0, 0, 0, 3, 0, 0, 0, 0, 0, 0, 0, 0, 0, 0, 0, 0, 0, 0,\n",
       "       0, 0, 0, 1])"
      ]
     },
     "execution_count": 23,
     "metadata": {},
     "output_type": "execute_result"
    }
   ],
   "source": [
    "x1 = (0,1,1,1,2,2,3,7,7,7,25)  \n",
    "bcount = np.bincount(x1)\n",
    "bcount"
   ]
  },
  {
   "cell_type": "code",
   "execution_count": 26,
   "metadata": {},
   "outputs": [
    {
     "data": {
      "text/plain": [
       "array([1, 3, 2, 1, 0, 0, 0, 3, 0, 0, 0, 0, 0, 0, 0, 0, 0, 0, 0, 0, 0, 0,\n",
       "       0, 0, 0, 1])"
      ]
     },
     "execution_count": 26,
     "metadata": {},
     "output_type": "execute_result"
    }
   ],
   "source": [
    "hist, _ = np.histogram(x1, range=(0, max(x1)), bins = max(x1)+1)\n",
    "hist"
   ]
  },
  {
   "cell_type": "code",
   "execution_count": 27,
   "metadata": {},
   "outputs": [
    {
     "data": {
      "text/plain": [
       "True"
      ]
     },
     "execution_count": 27,
     "metadata": {},
     "output_type": "execute_result"
    }
   ],
   "source": [
    "np.array_equal(bcount, hist)"
   ]
  },
  {
   "cell_type": "code",
   "execution_count": 29,
   "metadata": {},
   "outputs": [
    {
     "data": {
      "text/plain": [
       "{np.int64(0): np.int64(1),\n",
       " np.int64(1): np.int64(3),\n",
       " np.int64(2): np.int64(2),\n",
       " np.int64(3): np.int64(1),\n",
       " np.int64(7): np.int64(3),\n",
       " np.int64(25): np.int64(1)}"
      ]
     },
     "execution_count": 29,
     "metadata": {},
     "output_type": "execute_result"
    }
   ],
   "source": [
    "n = dict(zip(np.unique(x1), bcount[bcount.nonzero()]))\n",
    "n"
   ]
  },
  {
   "cell_type": "markdown",
   "metadata": {},
   "source": [
    "## Histogramas con matplotlib y pandas:"
   ]
  },
  {
   "cell_type": "code",
   "execution_count": 32,
   "metadata": {},
   "outputs": [
    {
     "data": {
      "text/plain": [
       "array([ 1.493e+01,  9.278e+00,  1.085e+01,  1.097e+01,  1.429e+01,\n",
       "        8.459e+00,  1.155e+01,  1.493e+01,  1.432e+01,  9.373e+00,\n",
       "        9.700e+00,  8.119e+00,  6.635e+00,  1.452e+01,  6.357e+00,\n",
       "        2.046e+01,  1.787e+00,  1.009e+01,  7.268e+00,  1.444e+01,\n",
       "        1.008e+01,  1.051e+01,  8.460e+00,  1.337e+01,  1.016e+01,\n",
       "        5.314e+00,  8.240e+00,  2.881e+00,  1.005e+01,  9.830e+00,\n",
       "        1.497e+01,  1.654e+01,  1.157e+01,  1.354e+01,  1.581e+01,\n",
       "        1.305e+01,  1.352e+01,  1.262e+01,  6.781e+00,  8.366e+00,\n",
       "        8.512e+00,  6.341e+00,  1.048e+01,  1.390e+01,  8.692e+00,\n",
       "        8.214e+00,  1.136e+01,  7.119e+00,  1.053e+01,  1.387e+01,\n",
       "        7.729e+00,  8.364e+00,  9.199e+00,  8.927e+00,  8.742e+00,\n",
       "        1.637e+01,  2.271e+00,  1.242e+01,  9.213e+00,  1.170e+01,\n",
       "        9.700e+00,  1.152e+01,  8.961e+00,  1.266e+01,  8.439e+00,\n",
       "        7.928e+00,  1.365e+01,  1.299e+01,  9.577e+00,  1.225e+01,\n",
       "        8.750e+00,  7.437e+00,  9.490e+00,  1.035e+01,  1.493e+01,\n",
       "        1.215e+01,  1.729e+01,  7.967e+00,  9.243e+00,  8.011e+00,\n",
       "        7.612e+00,  7.180e+00,  7.629e+00,  1.006e+01,  1.055e+01,\n",
       "        1.164e+01,  6.949e+00,  8.731e+00,  9.462e+00,  9.437e+00,\n",
       "       -1.022e+00,  1.276e+01,  1.170e+01,  1.643e+01,  9.947e+00,\n",
       "        9.364e+00,  1.205e+01,  1.067e+01,  8.781e+00,  2.179e+00,\n",
       "        4.870e+00,  1.162e+01,  8.681e+00,  1.246e+01,  1.105e+01,\n",
       "        6.843e+00,  1.917e+01,  1.387e+01,  7.471e+00,  7.877e+00,\n",
       "        5.591e+00,  1.268e+01,  4.111e+00,  8.777e+00,  2.945e+00,\n",
       "        2.309e+01,  5.086e+00,  5.651e+00,  8.438e+00,  9.743e+00,\n",
       "        8.399e+00,  1.950e+01,  7.206e+00,  1.042e+01,  7.195e+00,\n",
       "        4.481e+00,  1.783e+01,  1.105e+01,  1.474e+01,  7.745e+00,\n",
       "        2.955e+00,  1.035e+01,  3.917e+00,  2.789e+00,  1.216e+01,\n",
       "        1.008e+01,  1.146e+01,  1.651e+01,  7.275e+00,  8.712e+00,\n",
       "        1.533e+01,  1.275e+01,  1.498e+01,  9.558e+00,  1.083e+01,\n",
       "        5.824e+00,  1.033e+01,  9.832e+00,  8.859e+00, -3.660e-01,\n",
       "        7.132e+00,  6.383e+00,  9.858e+00,  1.408e+01,  1.118e+01,\n",
       "        1.159e+01,  7.212e+00,  1.865e+01,  2.978e+00,  7.253e+00,\n",
       "        9.429e+00,  1.034e+01,  5.864e+00,  1.077e+01,  1.027e+01,\n",
       "        1.665e+00,  1.029e+01,  9.398e+00,  3.208e+00,  1.479e+01,\n",
       "        1.024e+01,  1.033e+01,  5.815e+00,  6.022e+00,  1.477e+01,\n",
       "        7.794e+00,  9.328e+00,  1.245e+01,  6.783e+00,  1.055e+01,\n",
       "        1.653e+01,  1.370e+01,  9.806e+00,  9.622e+00,  2.039e+01,\n",
       "        7.074e+00,  7.494e+00,  1.586e+01,  2.213e+01, -5.109e-01,\n",
       "        2.164e+00,  7.062e+00,  1.337e+01,  8.701e+00,  1.121e+01,\n",
       "        6.031e+00,  1.311e+01,  6.949e+00,  1.015e+01,  1.140e+01,\n",
       "        1.054e+01,  9.417e+00,  8.168e+00,  1.094e+01,  1.136e+01,\n",
       "        9.566e+00,  1.839e+01,  9.475e+00,  1.223e+01,  9.732e+00,\n",
       "        1.016e+01,  1.678e+01,  1.582e+01,  1.013e+01,  1.292e+01,\n",
       "        1.281e+01,  9.065e+00,  9.490e+00,  1.023e+01,  5.685e+00,\n",
       "        9.789e+00,  3.051e+00,  1.322e+01,  9.526e+00,  7.875e+00,\n",
       "        1.152e+01,  1.101e+01,  1.026e+01,  1.679e+01,  1.026e+01,\n",
       "        9.404e+00,  1.007e+01,  8.263e+00,  1.529e+01,  4.514e-01,\n",
       "        7.465e+00,  9.611e+00,  1.110e+01,  9.698e+00,  1.324e+01,\n",
       "        2.078e+01,  9.967e-01,  9.898e+00,  1.931e+00,  1.163e+01,\n",
       "        1.799e+01, -4.392e-01,  1.233e+01,  8.620e+00,  1.799e+01,\n",
       "        9.928e+00,  1.096e+01,  6.627e+00,  1.660e+01,  1.385e+01,\n",
       "        2.250e+00,  1.080e+01,  9.356e+00,  1.029e+01,  3.111e+00,\n",
       "        1.229e+01,  6.116e+00,  1.008e+01,  1.422e+01,  1.126e+01,\n",
       "        1.388e+01,  1.297e+01,  9.929e+00,  8.200e+00,  4.675e+00,\n",
       "        8.791e+00,  1.038e+01,  1.303e+01,  1.187e+01,  7.447e+00,\n",
       "        1.252e+01,  1.723e+01,  9.582e+00,  1.417e+01,  1.037e+01,\n",
       "        7.756e+00,  3.670e+00,  1.239e+01,  1.129e+01,  1.758e+01,\n",
       "        9.779e+00,  8.073e+00,  7.005e+00,  1.254e+01,  9.210e+00,\n",
       "        8.315e+00,  1.255e+01,  9.465e+00,  5.217e+00,  1.219e+01,\n",
       "        9.046e+00,  8.214e+00,  1.640e+01,  7.096e+00,  1.388e+01,\n",
       "        1.015e+01,  8.941e+00,  1.086e+01,  7.857e+00,  1.281e+01,\n",
       "        1.066e+01,  1.452e+01,  1.016e+01,  1.084e+01,  3.791e+00,\n",
       "        1.104e+01,  7.807e+00,  1.167e+01,  1.060e+01,  1.292e+01,\n",
       "        1.335e+01,  1.409e+01,  8.965e+00,  9.216e+00,  6.009e+00,\n",
       "        7.883e+00,  9.922e+00,  7.989e+00,  1.014e+01,  1.180e+01,\n",
       "        1.792e+01,  1.165e+01,  1.173e+01,  8.392e+00,  1.078e+01,\n",
       "        9.244e+00,  5.263e+00,  8.714e+00,  7.175e+00,  1.366e+01,\n",
       "        1.463e+01,  8.942e+00,  1.461e+01,  1.803e+01,  6.738e+00,\n",
       "        1.284e+01,  1.386e+01,  1.531e+01,  1.162e+01,  6.051e+00,\n",
       "        7.439e+00,  8.942e+00,  1.202e+01,  8.847e+00,  5.735e+00,\n",
       "        1.245e+01,  4.148e+00,  2.120e+01,  7.675e+00,  1.511e+01,\n",
       "        1.022e+01,  6.958e+00,  5.186e+00,  7.422e+00,  1.183e+01,\n",
       "        9.030e+00,  1.173e+01,  8.719e+00,  5.968e+00, -2.840e+00,\n",
       "        8.016e+00,  6.494e+00,  1.601e+01,  9.568e+00,  1.051e+01,\n",
       "        1.462e+00,  7.258e+00,  9.593e+00,  9.306e+00,  9.600e+00,\n",
       "        1.148e+01,  4.331e+00,  4.522e+00,  1.336e+01,  1.272e+01,\n",
       "        1.017e+00,  1.175e+01,  2.689e+00,  1.341e+01,  1.633e+01,\n",
       "        1.024e+01, -2.524e-01,  1.295e+01,  3.967e+00,  5.857e+00,\n",
       "        1.022e+01,  5.693e+00,  1.149e+01,  1.106e+01,  1.081e+01,\n",
       "        9.865e+00,  8.881e+00,  8.665e+00,  1.188e+01,  1.576e+01,\n",
       "        1.629e+01,  8.391e+00,  2.509e+01,  5.992e+00,  1.995e+00,\n",
       "        9.847e+00,  1.965e+01,  2.207e+01,  1.153e+01,  1.090e+01,\n",
       "        9.713e+00,  1.173e+01,  1.037e+01,  1.208e+01,  1.207e+01,\n",
       "        1.024e+01,  8.371e+00,  9.526e+00,  1.148e+01,  1.222e+01,\n",
       "        1.013e+01,  1.566e+01,  9.150e+00,  9.502e+00,  5.917e+00,\n",
       "        6.317e+00,  1.147e+01,  1.455e+01,  2.090e+01,  1.112e+01,\n",
       "        5.827e+00,  6.149e+00,  9.574e+00,  9.546e+00,  9.222e+00,\n",
       "        1.306e+01,  5.797e+00,  1.229e+01,  6.096e+00,  9.467e+00,\n",
       "        1.060e+01,  5.676e+00,  1.340e+01,  1.280e+01,  1.325e+01,\n",
       "        1.373e+01,  8.439e+00,  9.224e+00,  1.167e+01,  1.585e+01,\n",
       "        7.488e+00,  9.841e+00,  1.420e+01,  9.463e+00,  1.226e+01,\n",
       "        1.014e+01,  1.113e+01,  1.138e+01,  1.119e+01,  1.035e+01,\n",
       "        4.648e+00,  8.353e+00,  1.111e+01,  1.583e+01,  1.140e+01,\n",
       "        4.548e+00,  1.603e+01,  7.237e+00,  9.190e+00,  7.681e+00,\n",
       "        7.051e+00,  6.533e+00,  7.253e+00,  1.092e+01,  9.696e+00,\n",
       "        9.438e+00,  8.956e+00,  1.212e+01,  9.031e+00,  2.570e+00,\n",
       "        1.709e+00,  1.175e+01,  2.108e+01,  6.102e+00,  1.087e+01,\n",
       "        1.015e+01,  8.408e+00,  6.876e+00,  1.173e+01,  9.558e+00,\n",
       "        8.950e+00,  8.948e+00,  8.640e+00,  1.055e+01,  1.255e+01,\n",
       "        1.033e+01,  1.082e+01,  9.645e+00,  6.589e+00,  9.370e+00,\n",
       "        9.319e+00,  1.238e+01, -4.268e-01,  1.027e+01,  6.777e+00,\n",
       "        7.602e+00,  7.429e+00,  7.935e+00,  1.796e+01,  1.334e+01,\n",
       "        1.523e+01,  9.363e+00,  1.810e+01,  1.241e+01,  6.962e+00,\n",
       "        5.289e+00,  1.340e+01,  1.315e+01,  9.083e+00,  9.496e+00,\n",
       "        1.116e+01,  5.807e+00,  1.617e+01,  9.762e+00,  1.482e+01,\n",
       "        1.521e+01, -7.011e-01,  1.406e+01,  4.513e+00,  6.670e+00,\n",
       "        1.001e+01,  1.309e+01,  1.302e+01,  1.148e+01,  9.452e+00,\n",
       "        1.048e+01,  1.252e+01,  1.171e+01,  2.215e+00,  8.806e+00,\n",
       "        1.187e+01,  8.388e+00,  1.038e+01,  3.753e+00,  8.489e+00,\n",
       "        4.709e+00,  9.155e+00,  1.181e+01,  6.483e+00,  1.142e+01,\n",
       "        1.319e+01,  5.271e+00,  1.009e+01,  8.961e+00,  8.746e+00,\n",
       "        7.106e+00,  2.026e+01,  1.044e+01,  1.450e+01,  6.880e+00,\n",
       "        1.969e+01,  1.438e+01,  1.032e+01,  1.301e+01, -3.384e-02,\n",
       "        1.025e+01,  7.487e+00,  9.259e+00,  1.074e+01,  1.800e+01,\n",
       "        7.471e+00,  1.091e+01,  8.769e+00,  1.251e+01, -3.351e+00,\n",
       "        7.348e+00,  1.077e+01,  1.184e+01,  1.039e+01,  1.123e+01,\n",
       "        1.559e+01,  9.481e+00,  1.205e+01,  5.531e+00,  1.036e+01,\n",
       "        8.273e+00,  8.692e+00,  1.686e+01,  1.073e+01,  8.483e+00,\n",
       "        1.038e+01,  1.031e+01,  8.856e+00,  9.527e+00,  9.109e+00,\n",
       "        5.422e+00,  1.483e+01,  7.593e+00,  1.111e+01,  3.398e+00,\n",
       "        9.126e+00,  1.094e+01,  1.388e+01,  2.608e+01,  1.138e+01,\n",
       "        1.152e+01,  1.104e+01,  1.486e+01,  8.256e+00,  3.751e-01,\n",
       "        8.984e+00,  8.414e+00,  1.077e+01,  1.018e+01,  4.607e+00,\n",
       "        7.896e+00,  3.675e+00,  6.700e+00,  9.044e+00,  4.261e+00,\n",
       "        1.417e+01,  8.289e+00,  8.888e+00,  1.416e+01,  3.083e+00,\n",
       "        1.475e+01,  9.811e+00,  8.649e+00,  9.673e+00,  5.083e+00,\n",
       "        8.969e+00,  9.770e+00,  1.065e+01,  1.035e+01,  7.334e+00,\n",
       "        1.029e+01,  6.010e+00,  1.165e+01,  3.320e+00,  1.215e+01,\n",
       "        1.181e+01,  9.287e+00,  7.307e+00,  1.006e+01,  2.007e+01,\n",
       "        9.664e+00,  4.165e+00,  9.643e+00,  1.194e+01,  7.657e+00,\n",
       "        1.189e+01,  1.182e+01,  9.507e+00,  1.290e+01,  9.491e+00,\n",
       "        8.073e+00,  1.031e+01,  1.040e+01,  2.582e+00,  1.435e+01,\n",
       "       -1.971e+00,  1.001e+01,  1.223e+01,  1.344e+01,  1.158e+01,\n",
       "        1.030e+01,  7.601e+00,  2.107e+00,  1.835e+00,  2.390e+00,\n",
       "        8.366e+00,  9.252e+00,  8.321e+00,  1.227e+01,  5.976e+00,\n",
       "        1.253e+01,  8.348e+00,  6.322e+00,  7.092e+00,  1.028e+01,\n",
       "        5.473e+00,  1.015e+01,  8.588e+00,  1.070e+01,  1.059e+01,\n",
       "        8.098e+00,  1.070e+01,  1.434e+01,  1.246e+01,  1.011e+01,\n",
       "        4.556e+00,  6.120e+00,  8.909e+00,  6.600e+00,  9.390e+00,\n",
       "        1.120e+01,  9.956e+00,  1.113e+01,  8.962e+00,  6.991e+00,\n",
       "        1.050e+01,  6.934e+00,  1.376e+01,  1.323e+01,  9.757e+00,\n",
       "        2.349e+01,  8.495e+00,  1.188e+01,  1.089e+01,  1.123e+01,\n",
       "        3.482e+00,  7.606e+00,  1.490e+00,  1.151e+01,  1.313e+01,\n",
       "        1.400e+01,  1.035e+01,  1.110e+01,  9.676e+00,  9.702e+00,\n",
       "        1.557e+00,  8.957e+00,  2.250e+00,  1.022e+01,  1.201e+01,\n",
       "        1.210e+01,  1.215e+01,  1.379e+01,  1.440e+01,  8.099e+00,\n",
       "        1.680e+01,  1.027e+01,  1.190e+01,  1.368e+01,  8.464e+00,\n",
       "        8.832e+00,  1.329e+01,  4.457e+00,  1.070e+01,  1.758e+01,\n",
       "        8.055e+00,  1.076e+01,  7.803e+00,  7.463e+00,  1.346e+01,\n",
       "        1.588e+01,  7.668e+00,  9.233e+00,  9.721e+00,  7.733e+00,\n",
       "        9.205e+00,  1.037e+01,  9.152e+00,  7.840e+00,  4.222e+00,\n",
       "        9.852e+00,  9.432e+00,  8.552e+00,  1.187e+01,  9.983e+00,\n",
       "        1.006e+01,  9.885e+00,  6.376e+00,  9.950e+00,  1.133e+01,\n",
       "        8.855e+00,  9.257e+00,  7.469e+00,  1.194e+01,  8.665e+00,\n",
       "        2.462e+01,  1.113e+01,  1.495e+01,  4.159e+00,  1.435e+01,\n",
       "        6.856e+00,  1.213e+01,  1.334e+01,  1.031e+01,  9.244e+00,\n",
       "        3.509e+00,  8.513e+00,  7.304e+00,  6.265e+00,  1.102e+01,\n",
       "        9.728e+00,  1.177e+01,  9.880e+00,  9.503e+00,  7.991e+00,\n",
       "        1.549e+01,  9.575e+00, -5.182e-01,  1.013e+01,  1.362e+01,\n",
       "        1.004e+01,  1.107e+01,  1.139e+01,  4.253e+00,  1.042e+01,\n",
       "       -3.208e-01,  2.047e+01,  5.865e+00,  1.084e+01,  1.162e+01,\n",
       "        9.659e+00,  1.532e+01,  8.499e+00, -1.464e+00,  1.343e+01,\n",
       "        1.575e+01,  1.330e+01,  1.111e+01,  9.735e+00,  9.414e+00,\n",
       "       -3.443e+00, -1.917e+01,  1.038e+01,  9.652e+00,  3.046e+00,\n",
       "        1.077e+01,  7.138e+00,  1.104e+01,  9.107e+00,  8.172e+00,\n",
       "        5.508e+00,  1.249e+01,  1.596e+01,  1.343e-02,  1.165e+01,\n",
       "        1.125e+01,  7.353e+00,  1.313e+01,  1.026e+01,  1.129e+01,\n",
       "        1.010e+01,  8.655e+00,  1.050e+01,  1.084e+01,  7.599e+00,\n",
       "        1.171e+01,  6.460e+00,  1.461e+01,  1.023e+01,  2.281e+01,\n",
       "        8.834e+00,  1.833e+01,  1.223e+01, -1.156e+00,  1.167e+01,\n",
       "        9.963e+00,  9.725e+00,  8.290e+00,  1.201e+01,  2.156e+01,\n",
       "        1.127e+01,  9.329e+00,  1.048e+01,  1.225e+01,  1.006e+01,\n",
       "        8.141e+00,  5.638e+00,  9.065e+00,  1.053e+01,  1.144e+01,\n",
       "        1.232e+01, -1.236e+00,  1.042e+01,  1.180e+01,  1.252e+01,\n",
       "        9.104e+00,  6.441e+00,  1.124e+01,  1.124e+01,  1.680e+01,\n",
       "        1.499e+01,  6.973e+00,  1.023e+01,  1.203e+01,  6.770e+00,\n",
       "        9.728e+00,  9.145e+00,  1.378e+01,  9.419e+00,  1.407e+01,\n",
       "        6.254e+00,  4.578e+00,  7.836e+00,  3.955e+00,  1.440e+01,\n",
       "        1.495e+01,  1.467e+01,  7.535e+00,  1.323e+01,  8.725e+00,\n",
       "        9.854e+00,  1.008e+01,  1.049e+01,  9.450e+00,  8.148e+00,\n",
       "        1.030e+01,  7.218e+00,  7.350e+00,  1.249e+01,  1.092e+01,\n",
       "        5.447e+00,  9.410e+00,  7.532e+00,  9.141e+00,  1.467e+01,\n",
       "        7.315e+00,  9.594e+00,  1.726e+01,  7.615e+00,  1.078e+01,\n",
       "        1.070e+01,  1.022e+01,  1.077e+01,  1.121e+01,  5.326e+00,\n",
       "       -1.708e-01,  9.082e+00,  1.080e+01,  1.064e+01,  1.395e+01,\n",
       "        5.644e+00,  9.148e+00,  1.261e+01,  6.274e+00,  1.040e+01,\n",
       "        7.831e+00,  1.295e+01,  1.272e+01,  9.874e+00,  1.024e+01,\n",
       "        1.009e+01,  7.593e+00,  9.913e+00,  9.258e+00,  1.022e+01,\n",
       "        6.285e+00,  7.923e+00, -1.989e+00,  4.219e+00,  1.321e+01,\n",
       "        9.631e+00,  5.501e+00,  1.077e+01,  8.538e+00,  8.642e+00,\n",
       "        8.090e+00,  1.104e+01,  8.476e+00,  1.172e+01,  1.464e+01,\n",
       "        6.201e+00,  1.035e+01,  9.872e+00,  8.014e+00,  1.141e+01,\n",
       "        1.059e+01,  9.633e+00,  1.737e+01,  1.026e+01,  1.089e+01,\n",
       "        1.185e+01,  1.057e+01,  1.038e+01,  1.112e+01,  1.380e+01,\n",
       "        9.961e+00,  1.163e+01,  7.008e+00,  1.576e+01,  8.856e+00,\n",
       "        1.576e+01,  1.189e+01,  8.552e+00,  8.829e+00,  6.378e+00,\n",
       "        1.086e+01,  1.008e+01,  1.181e+01,  8.447e+00,  8.082e+00,\n",
       "        1.280e+01,  7.623e+00,  8.246e+00,  1.593e+01,  1.366e+01,\n",
       "        6.776e+00,  1.064e+01,  9.052e+00,  1.605e+01,  9.914e+00,\n",
       "        9.534e+00,  7.903e+00,  1.482e+01,  1.289e+01,  1.920e+01])"
      ]
     },
     "execution_count": 32,
     "metadata": {},
     "output_type": "execute_result"
    }
   ],
   "source": [
    "import matplotlib.pyplot as plt\n",
    "np.random.seed(2019)\n",
    "x = np.random.laplace(loc = 10, scale = 3, size=1000)\n",
    "x"
   ]
  },
  {
   "cell_type": "code",
   "execution_count": 40,
   "metadata": {},
   "outputs": [
    {
     "data": {
      "image/png": "[encoded data removed]",
      "text/plain": [
       "<Figure size 640x480 with 1 Axes>"
      ]
     },
     "metadata": {},
     "output_type": "display_data"
    }
   ],
   "source": [
    "n, bins, patches = plt.hist(x = x, bins = \"auto\", color = \"#0505a5\", alpha = 0.75, rwidth = 0.85)\n",
    "plt.grid(axis = \"y\", alpha = 0.5)\n",
    "plt.xlabel(\"Valor\")\n",
    "plt.ylabel(\"Frecuencia\")\n",
    "plt.title(\"Un histograma de frecuencias\")\n",
    "plt.text(-5, 80, r'$\\mu = 10, b = 3$')\n",
    "maxfreq = n.max()\n",
    "plt.ylim(ymax = np.ceil(maxfreq/10)*10 if maxfreq%10 else maxfreq + 10)\n",
    "plt.show()\n"
   ]
  },
  {
   "cell_type": "code",
   "execution_count": 37,
   "metadata": {},
   "outputs": [
    {
     "data": {
      "text/plain": [
       "array([  1.,   0.,   0.,   0.,   0.,   0.,   0.,   0.,   0.,   0.,   0.,\n",
       "         0.,   0.,   0.,   0.,   0.,   0.,   0.,   0.,   0.,   3.,   0.,\n",
       "         4.,   5.,   8.,   4.,   7.,  12.,  13.,  15.,  15.,  23.,  39.,\n",
       "        53.,  62.,  81., 113., 132.,  92.,  77.,  54.,  42.,  35.,  31.,\n",
       "        20.,  14.,   9.,  10.,   3.,   5.,   5.,   4.,   3.,   1.,   2.,\n",
       "         0.,   2.,   1.])"
      ]
     },
     "execution_count": 37,
     "metadata": {},
     "output_type": "execute_result"
    }
   ],
   "source": [
    "n # contiene las frecuencias de las divisiones"
   ]
  },
  {
   "cell_type": "code",
   "execution_count": 38,
   "metadata": {},
   "outputs": [
    {
     "data": {
      "text/plain": [
       "array([-19.167, -18.387, -17.606, -16.826, -16.046, -15.266, -14.486,\n",
       "       -13.706, -12.926, -12.146, -11.366, -10.586,  -9.806,  -9.026,\n",
       "        -8.246,  -7.466,  -6.685,  -5.905,  -5.125,  -4.345,  -3.565,\n",
       "        -2.785,  -2.005,  -1.225,  -0.445,   0.335,   1.115,   1.895,\n",
       "         2.675,   3.455,   4.236,   5.016,   5.796,   6.576,   7.356,\n",
       "         8.136,   8.916,   9.696,  10.476,  11.256,  12.036,  12.816,\n",
       "        13.596,  14.376,  15.157,  15.937,  16.717,  17.497,  18.277,\n",
       "        19.057,  19.837,  20.617,  21.397,  22.177,  22.957,  23.737,\n",
       "        24.517,  25.297,  26.077])"
      ]
     },
     "execution_count": 38,
     "metadata": {},
     "output_type": "execute_result"
    }
   ],
   "source": [
    "bins # los extremos de las divisioens"
   ]
  },
  {
   "cell_type": "code",
   "execution_count": 41,
   "metadata": {},
   "outputs": [
    {
     "data": {
      "text/plain": [
       "<BarContainer object of 58 artists>"
      ]
     },
     "execution_count": 41,
     "metadata": {},
     "output_type": "execute_result"
    }
   ],
   "source": [
    "patches #numero de divisiones"
   ]
  },
  {
   "cell_type": "code",
   "execution_count": 44,
   "metadata": {},
   "outputs": [
    {
     "data": {
      "image/png": "[encoded data removed]",
      "text/plain": [
       "<Figure size 640x480 with 1 Axes>"
      ]
     },
     "metadata": {},
     "output_type": "display_data"
    }
   ],
   "source": [
    "import pandas as pd\n",
    "size, scale = 1000, 10\n",
    "\n",
    "data = pd.Series(np.random.gamma(scale, size=size))\n",
    "data.plot.hist(grid = True, bins = 20, rwidth = 0.9, color = \"#d52675\")\n",
    "plt.title(\"Distribucion Gamma\")\n",
    "plt.xlabel(\"Valores\")\n",
    "plt.ylabel(\"Frecuencias\")\n",
    "plt.grid(axis=\"y\", alpha= 0.75)\n",
    "plt.show()"
   ]
  },
  {
   "cell_type": "markdown",
   "metadata": {},
   "source": [
    "## Funciones de densidad y de probabilidad:"
   ]
  },
  {
   "cell_type": "code",
   "execution_count": 46,
   "metadata": {},
   "outputs": [
    {
     "data": {
      "text/html": [
       "<div>\n",
       "<style scoped>\n",
       "    .dataframe tbody tr th:only-of-type {\n",
       "        vertical-align: middle;\n",
       "    }\n",
       "\n",
       "    .dataframe tbody tr th {\n",
       "        vertical-align: top;\n",
       "    }\n",
       "\n",
       "    .dataframe thead th {\n",
       "        text-align: right;\n",
       "    }\n",
       "</style>\n",
       "<table border=\"1\" class=\"dataframe\">\n",
       "  <thead>\n",
       "    <tr style=\"text-align: right;\">\n",
       "      <th></th>\n",
       "      <th>x1</th>\n",
       "      <th>x2</th>\n",
       "    </tr>\n",
       "  </thead>\n",
       "  <tbody>\n",
       "    <tr>\n",
       "      <th>0</th>\n",
       "      <td>12.525035</td>\n",
       "      <td>19.626134</td>\n",
       "    </tr>\n",
       "    <tr>\n",
       "      <th>1</th>\n",
       "      <td>3.061196</td>\n",
       "      <td>18.059625</td>\n",
       "    </tr>\n",
       "    <tr>\n",
       "      <th>2</th>\n",
       "      <td>5.768095</td>\n",
       "      <td>22.258458</td>\n",
       "    </tr>\n",
       "    <tr>\n",
       "      <th>3</th>\n",
       "      <td>7.296967</td>\n",
       "      <td>18.900298</td>\n",
       "    </tr>\n",
       "    <tr>\n",
       "      <th>4</th>\n",
       "      <td>18.675304</td>\n",
       "      <td>16.073901</td>\n",
       "    </tr>\n",
       "    <tr>\n",
       "      <th>...</th>\n",
       "      <td>...</td>\n",
       "      <td>...</td>\n",
       "    </tr>\n",
       "    <tr>\n",
       "      <th>995</th>\n",
       "      <td>12.240065</td>\n",
       "      <td>17.309076</td>\n",
       "    </tr>\n",
       "    <tr>\n",
       "      <th>996</th>\n",
       "      <td>0.348066</td>\n",
       "      <td>19.507468</td>\n",
       "    </tr>\n",
       "    <tr>\n",
       "      <th>997</th>\n",
       "      <td>6.748116</td>\n",
       "      <td>23.168631</td>\n",
       "    </tr>\n",
       "    <tr>\n",
       "      <th>998</th>\n",
       "      <td>10.913992</td>\n",
       "      <td>19.395874</td>\n",
       "    </tr>\n",
       "    <tr>\n",
       "      <th>999</th>\n",
       "      <td>5.904627</td>\n",
       "      <td>17.067481</td>\n",
       "    </tr>\n",
       "  </tbody>\n",
       "</table>\n",
       "<p>1000 rows × 2 columns</p>\n",
       "</div>"
      ],
      "text/plain": [
       "            x1         x2\n",
       "0    12.525035  19.626134\n",
       "1     3.061196  18.059625\n",
       "2     5.768095  22.258458\n",
       "3     7.296967  18.900298\n",
       "4    18.675304  16.073901\n",
       "..         ...        ...\n",
       "995  12.240065  17.309076\n",
       "996   0.348066  19.507468\n",
       "997   6.748116  23.168631\n",
       "998  10.913992  19.395874\n",
       "999   5.904627  17.067481\n",
       "\n",
       "[1000 rows x 2 columns]"
      ]
     },
     "execution_count": 46,
     "metadata": {},
     "output_type": "execute_result"
    }
   ],
   "source": [
    "mu = 10, 20\n",
    "sigma = 5, 2\n",
    "dist = pd.DataFrame(np.random.normal(loc=mu, scale= sigma, size = (1000, 2)), columns=['x1','x2'])\n",
    "dist"
   ]
  },
  {
   "cell_type": "code",
   "execution_count": 47,
   "metadata": {},
   "outputs": [
    {
     "data": {
      "text/html": [
       "<div>\n",
       "<style scoped>\n",
       "    .dataframe tbody tr th:only-of-type {\n",
       "        vertical-align: middle;\n",
       "    }\n",
       "\n",
       "    .dataframe tbody tr th {\n",
       "        vertical-align: top;\n",
       "    }\n",
       "\n",
       "    .dataframe thead th {\n",
       "        text-align: right;\n",
       "    }\n",
       "</style>\n",
       "<table border=\"1\" class=\"dataframe\">\n",
       "  <thead>\n",
       "    <tr style=\"text-align: right;\">\n",
       "      <th></th>\n",
       "      <th>x1</th>\n",
       "      <th>x2</th>\n",
       "    </tr>\n",
       "  </thead>\n",
       "  <tbody>\n",
       "    <tr>\n",
       "      <th>min</th>\n",
       "      <td>-8.68</td>\n",
       "      <td>12.22</td>\n",
       "    </tr>\n",
       "    <tr>\n",
       "      <th>max</th>\n",
       "      <td>26.69</td>\n",
       "      <td>26.47</td>\n",
       "    </tr>\n",
       "    <tr>\n",
       "      <th>mean</th>\n",
       "      <td>10.00</td>\n",
       "      <td>20.03</td>\n",
       "    </tr>\n",
       "    <tr>\n",
       "      <th>std</th>\n",
       "      <td>4.97</td>\n",
       "      <td>2.09</td>\n",
       "    </tr>\n",
       "  </tbody>\n",
       "</table>\n",
       "</div>"
      ],
      "text/plain": [
       "         x1     x2\n",
       "min   -8.68  12.22\n",
       "max   26.69  26.47\n",
       "mean  10.00  20.03\n",
       "std    4.97   2.09"
      ]
     },
     "execution_count": 47,
     "metadata": {},
     "output_type": "execute_result"
    }
   ],
   "source": [
    "dist.agg(['min','max', 'mean', 'std']).round(decimals=2)"
   ]
  },
  {
   "cell_type": "code",
   "execution_count": 50,
   "metadata": {},
   "outputs": [],
   "source": [
    "#pip install  scipy"
   ]
  },
  {
   "cell_type": "code",
   "execution_count": 53,
   "metadata": {},
   "outputs": [
    {
     "data": {
      "image/png": "[encoded data removed]",
      "text/plain": [
       "<Figure size 640x480 with 1 Axes>"
      ]
     },
     "metadata": {},
     "output_type": "display_data"
    }
   ],
   "source": [
    "fig, ax = plt.subplots()\n",
    "dist.plot.kde(ax = ax, legend = False, title = \"Histograma de dos normales\")\n",
    "dist.plot.hist(density = True, ax = ax)\n",
    "ax.set_ylabel(\"Probabildad\")\n",
    "ax.grid(axis='y', alpha = 0.75)\n",
    "ax.set_facecolor(\"#d5d5d5\")"
   ]
  },
  {
   "cell_type": "code",
   "execution_count": 54,
   "metadata": {},
   "outputs": [
    {
     "data": {
      "text/plain": [
       "<scipy.stats._distn_infrastructure.rv_continuous_frozen at 0x2032904f230>"
      ]
     },
     "execution_count": 54,
     "metadata": {},
     "output_type": "execute_result"
    }
   ],
   "source": [
    "from scipy import stats\n",
    "\n",
    "dist = stats.norm() #distribucion normal teorica N(0,1) ~ exp(-x**2/2)/sqrt(2*pi)\n",
    "dist"
   ]
  },
  {
   "cell_type": "code",
   "execution_count": 55,
   "metadata": {},
   "outputs": [
    {
     "data": {
      "text/plain": [
       "array([-3.874e-01, -3.711e-01, -8.935e-01, -6.280e-02,  1.264e+00,\n",
       "        1.022e+00,  7.151e-01, -7.919e-01, -3.190e-01, -1.088e+00,\n",
       "       -5.137e-01, -2.259e-01,  2.025e+00, -3.530e-01, -2.236e-01,\n",
       "        2.169e-01,  1.545e+00,  3.879e-01, -7.451e-01, -2.978e-01,\n",
       "       -5.442e-01, -5.173e-01, -4.831e-01,  1.732e+00,  1.977e+00,\n",
       "        1.210e+00, -8.729e-01,  1.137e+00,  6.350e-01,  3.748e-01,\n",
       "        2.777e-01, -5.906e-01,  1.894e+00,  1.750e+00,  1.675e+00,\n",
       "        8.008e-01,  8.305e-01, -1.593e+00,  1.223e+00, -1.319e+00,\n",
       "        2.161e+00, -2.326e+00,  5.067e-01, -7.890e-01,  1.099e+00,\n",
       "       -4.419e-01, -3.552e-02,  1.586e+00, -3.283e-01,  1.054e+00,\n",
       "       -7.236e-01,  1.062e-01, -1.052e-01, -1.819e+00,  6.786e-01,\n",
       "        1.091e+00,  8.959e-01,  1.211e+00,  6.990e-01,  3.310e-01,\n",
       "        2.037e-01,  8.404e-01,  7.145e-01,  7.344e-01,  3.666e-01,\n",
       "       -1.373e+00,  3.843e-01, -4.008e-01, -2.584e-02,  4.579e-02,\n",
       "        1.802e-01,  5.089e-01,  4.264e-01, -5.849e-02, -3.072e-01,\n",
       "        3.312e-01,  5.369e-01, -1.006e-01, -1.484e-01,  7.662e-01,\n",
       "        9.344e-01, -1.040e-01, -2.770e-01,  2.736e-01, -2.107e+00,\n",
       "        1.863e-01, -1.148e+00, -1.480e+00,  1.609e-01,  9.418e-01,\n",
       "       -8.052e-01, -7.378e-01,  9.525e-01,  3.773e-01,  9.570e-01,\n",
       "       -5.400e-01, -1.113e-01,  8.201e-01,  1.586e+00,  7.934e-01,\n",
       "        1.039e+00, -1.977e-01,  1.112e+00,  2.423e+00,  1.012e+00,\n",
       "        3.294e-01,  1.966e+00,  1.428e-01, -1.319e+00, -1.266e+00,\n",
       "       -2.871e-01,  1.448e+00,  5.845e-01,  7.433e-01,  6.502e-01,\n",
       "       -9.882e-01,  6.777e-01, -1.440e+00,  6.490e-01,  2.880e-01,\n",
       "        1.722e+00,  1.905e+00, -4.937e-01, -4.622e-01,  1.527e-01,\n",
       "        5.832e-01, -7.855e-01, -3.213e-01, -2.789e-01,  1.875e+00,\n",
       "       -4.028e-01,  4.610e-01,  9.056e-01,  7.815e-02, -2.607e-02,\n",
       "        4.618e-01,  6.152e-01,  2.470e-01,  3.280e-01,  1.116e+00,\n",
       "        5.269e-01,  7.952e-01, -8.075e-01, -3.591e-01,  1.489e+00,\n",
       "       -2.147e+00, -1.015e+00,  2.570e-01,  1.293e+00,  7.211e-01,\n",
       "        7.398e-01,  2.335e+00,  7.770e-01,  4.755e-01, -7.683e-01,\n",
       "       -5.057e-01, -4.929e-01, -5.747e-01, -2.208e-02, -2.291e+00,\n",
       "        5.751e-01, -1.868e-01, -4.668e-01,  1.348e+00,  1.270e-01,\n",
       "       -4.564e-01, -4.646e-01,  1.304e+00, -9.218e-01,  5.372e-01,\n",
       "       -7.423e-01, -1.506e-01,  1.300e+00,  1.334e+00,  1.251e+00,\n",
       "        1.576e+00,  9.227e-01,  9.559e-02,  2.093e+00, -3.657e-01,\n",
       "       -6.381e-01,  1.358e+00,  1.451e-01,  7.668e-01, -1.473e+00,\n",
       "       -1.368e+00,  3.089e-01,  6.241e-01,  2.224e-01,  6.218e-01,\n",
       "        3.637e-01,  1.082e-01, -1.295e-01, -7.415e-01,  3.919e-01,\n",
       "        1.250e+00, -7.416e-01,  5.809e-01,  1.107e+00,  2.201e-01,\n",
       "        1.129e-02,  1.085e+00, -1.180e+00,  1.913e+00,  7.925e-01,\n",
       "        1.212e+00,  3.029e-01, -1.041e+00, -1.101e+00, -8.132e-01,\n",
       "        3.589e-01,  8.390e-01, -9.319e-01,  1.291e+00, -4.618e-01,\n",
       "       -2.644e-01, -1.024e+00,  9.072e-01, -2.777e-01,  6.278e-01,\n",
       "       -3.838e-02, -9.665e-01, -8.047e-01, -1.340e+00, -9.168e-01,\n",
       "       -8.055e-01,  4.289e-01,  3.354e-01, -5.699e-01, -2.027e+00,\n",
       "       -9.029e-01, -1.062e-01,  1.195e+00,  1.616e-01,  6.355e-01,\n",
       "        7.044e-01, -4.601e-01, -1.136e+00,  6.812e-01,  1.318e+00,\n",
       "       -2.339e+00,  8.241e-02, -5.076e-01, -1.488e+00, -2.539e-01,\n",
       "        1.568e+00, -3.468e-01,  3.470e-01,  1.777e+00,  3.333e-02,\n",
       "       -1.153e+00,  1.581e-01, -1.192e+00,  5.448e-01,  1.353e-01,\n",
       "       -6.045e-01, -3.264e-01,  2.713e-01, -3.346e-01,  1.369e+00,\n",
       "        2.984e-01, -1.427e+00, -3.105e-01, -1.314e-01, -5.607e-01,\n",
       "        5.288e-01,  2.826e-01,  1.559e+00,  1.186e+00,  1.684e+00,\n",
       "       -1.625e+00, -1.796e+00,  2.517e-01, -6.121e-02,  2.615e+00,\n",
       "       -2.105e+00,  1.231e+00, -4.232e-01, -1.709e+00,  3.290e-01,\n",
       "        6.254e-01, -2.215e+00, -5.668e-01, -3.041e-01, -1.402e+00,\n",
       "       -4.953e-01, -1.211e+00, -1.504e+00, -1.072e+00,  9.816e-02,\n",
       "        7.482e-01, -1.624e+00, -1.222e+00,  2.068e-01,  1.403e+00,\n",
       "        1.176e+00,  8.051e-01,  1.449e-03, -9.783e-01,  9.199e-01,\n",
       "       -1.571e-01, -8.467e-01,  5.232e-01,  1.987e+00, -2.309e+00,\n",
       "        4.792e-01, -8.923e-01, -1.562e+00, -1.743e-02,  1.444e+00,\n",
       "        1.614e+00,  1.718e+00, -8.540e-01,  2.794e-01, -2.549e-01,\n",
       "       -7.850e-01, -1.383e-02,  1.874e-01,  5.406e-01, -2.294e-01,\n",
       "       -5.409e-02,  1.564e+00,  2.368e-01,  6.910e-01,  1.028e+00,\n",
       "        9.560e-02,  4.673e-01,  1.418e+00,  1.282e+00, -1.976e-02,\n",
       "       -4.153e-01, -8.912e-01,  1.520e+00,  1.482e+00, -5.643e-02,\n",
       "       -1.109e-01, -1.326e+00,  1.424e+00,  1.990e-01, -3.272e-01,\n",
       "        1.620e+00,  3.758e-01, -2.687e-01,  1.285e+00,  1.410e+00,\n",
       "       -1.366e-01, -9.751e-01, -2.380e+00,  1.724e-01, -1.158e+00,\n",
       "       -1.444e+00, -4.629e-01,  6.652e-01,  8.887e-01, -4.508e-01,\n",
       "       -1.235e+00, -1.111e-01, -5.437e-01,  6.258e-01,  6.881e-01,\n",
       "        1.078e-02,  1.903e+00,  8.479e-02,  6.337e-01, -2.049e-01,\n",
       "       -1.523e+00, -3.490e-01, -6.396e-03,  3.162e-01, -5.633e-01,\n",
       "        8.517e-01,  1.038e-01, -1.679e-01,  4.841e-02,  9.350e-01,\n",
       "        1.713e+00, -1.419e-01,  2.165e+00, -1.509e+00,  1.463e+00,\n",
       "        4.701e-01,  1.344e+00, -1.697e+00,  1.466e-01, -5.576e-01,\n",
       "        2.175e-01, -2.137e-01,  7.265e-02, -2.307e-01,  9.312e-01,\n",
       "       -7.522e-01, -8.243e-01,  3.363e-01, -7.666e-02,  1.112e+00,\n",
       "        6.121e-01,  3.898e-01, -3.337e-01,  1.293e+00,  4.386e-01,\n",
       "        1.079e+00,  1.369e+00, -2.644e-01,  1.571e+00, -4.669e-01,\n",
       "        3.110e-03,  8.780e-01, -1.803e+00, -4.754e-01,  1.034e-01,\n",
       "        3.099e-01, -8.910e-01, -3.961e-01,  9.679e-02, -3.900e-02,\n",
       "        1.730e+00,  3.591e-01,  1.316e+00, -4.935e-01,  1.255e+00,\n",
       "        2.528e-01,  5.081e-01,  8.107e-01, -2.068e-01,  1.424e+00,\n",
       "       -1.610e+00,  3.456e-01, -4.970e-01, -1.007e+00,  1.239e+00,\n",
       "        1.399e+00,  1.689e-01, -1.643e-01,  1.105e+00, -4.399e-01,\n",
       "       -2.323e-01,  2.223e-01,  6.190e-02, -4.622e-01,  6.631e-01,\n",
       "       -1.090e+00,  1.761e+00,  2.250e-01, -5.127e-01,  1.024e-02,\n",
       "        9.496e-01,  2.694e-01, -1.998e+00,  1.794e+00, -4.171e-01,\n",
       "        1.767e-01,  1.138e-02,  3.801e-01,  2.750e+00, -1.195e+00,\n",
       "        1.556e+00,  1.744e+00,  9.532e-01, -3.622e+00,  1.375e-01,\n",
       "        5.803e-01,  1.238e+00, -1.140e+00, -6.641e-02, -1.384e+00,\n",
       "       -3.158e-01,  2.558e+00, -9.873e-02,  8.197e-01, -7.021e-01,\n",
       "        1.200e+00,  1.170e+00,  7.720e-01, -5.841e-01, -1.212e+00,\n",
       "       -9.668e-01, -4.116e-01, -3.144e-01, -1.011e+00,  9.674e-01,\n",
       "       -7.605e-01, -2.121e-01,  5.945e-01,  5.295e-02,  8.482e-01,\n",
       "        2.585e-02,  8.910e-01, -1.218e+00, -8.725e-01,  7.193e-01,\n",
       "        2.078e-01,  8.177e-01,  1.049e+00,  1.259e+00,  4.568e-01,\n",
       "       -4.204e-01,  2.225e-01, -2.594e-01, -3.073e-01, -7.092e-01,\n",
       "        3.632e-01,  3.973e-01,  2.569e-01, -3.887e-01,  1.594e+00,\n",
       "        1.272e+00, -5.227e-01, -3.575e-01, -1.489e-01,  5.802e-01,\n",
       "       -4.042e-01, -1.955e-01, -2.901e-01,  1.167e+00, -8.411e-01,\n",
       "       -5.812e-01,  1.069e+00,  1.116e-01, -1.100e+00, -3.020e-01,\n",
       "        8.712e-01,  8.517e-02,  9.522e-01,  7.144e-01, -1.451e-01,\n",
       "       -2.641e-01,  3.074e-01, -1.071e+00, -9.901e-01, -1.393e-01,\n",
       "       -1.249e+00,  1.574e-01,  1.334e+00, -3.770e-01, -9.883e-01,\n",
       "        1.878e-01,  2.179e-01, -1.040e-01,  8.594e-01,  1.516e-01,\n",
       "        1.595e+00, -6.566e-01,  4.902e-02, -3.732e-02, -1.800e+00,\n",
       "       -2.509e-01, -3.578e-01,  2.423e-03, -7.878e-01, -1.136e+00,\n",
       "       -3.723e-01, -5.796e-01, -7.185e-01, -2.271e-01, -1.400e+00,\n",
       "        1.213e+00, -9.639e-01, -8.804e-01,  1.291e+00,  4.423e-01,\n",
       "        8.788e-01, -1.862e-01,  6.390e-01,  1.738e+00, -1.138e+00,\n",
       "        1.189e+00,  1.284e+00, -9.022e-01, -4.689e-01,  2.204e-01,\n",
       "        1.665e-01,  1.036e+00, -1.724e+00, -1.071e-01, -1.031e+00,\n",
       "        8.491e-01,  1.108e+00,  3.532e-02, -9.188e-01, -5.747e-01,\n",
       "        1.673e+00,  1.032e+00,  1.080e+00, -1.355e+00,  2.269e-01,\n",
       "       -3.309e-01, -1.553e+00, -3.572e-01,  1.135e+00, -1.234e+00,\n",
       "        3.944e-01,  7.602e-01, -9.888e-01, -1.858e-01,  6.564e-01,\n",
       "       -6.246e-01, -1.263e+00,  8.988e-01,  5.862e-01, -1.437e-01,\n",
       "       -5.811e-02,  1.037e+00, -6.583e-01,  1.056e+00, -2.313e-01,\n",
       "        4.157e-01, -9.915e-01, -9.130e-01, -1.540e+00,  1.075e+00,\n",
       "        1.078e+00,  1.934e+00,  1.547e+00, -3.942e-01, -2.372e+00,\n",
       "       -2.696e+00,  8.885e-01,  5.401e-01,  8.520e-01,  1.400e+00,\n",
       "        5.290e-01, -5.811e-02,  3.121e+00,  1.878e-01,  2.162e-01,\n",
       "       -3.965e-01, -4.105e-01, -5.890e-01, -3.850e-02, -2.707e-04,\n",
       "        5.434e-01, -2.073e+00, -2.498e-01,  4.661e-01,  1.054e+00,\n",
       "       -2.698e+00, -8.468e-01,  1.135e+00,  1.921e+00,  5.702e-02,\n",
       "        7.032e-01, -2.943e-03, -1.385e-01, -5.377e-02, -8.151e-01,\n",
       "        7.998e-01, -1.245e+00, -2.372e+00,  1.121e-02,  7.888e-01,\n",
       "       -4.694e-01,  6.088e-01, -8.975e-01,  6.469e-01,  7.326e-01,\n",
       "        7.506e-01,  8.871e-01, -1.076e+00,  7.360e-01, -2.403e+00,\n",
       "       -4.765e-01,  1.095e+00,  1.303e-02,  8.593e-01,  5.558e-01,\n",
       "        3.413e-01, -7.882e-01, -3.055e-01,  1.099e+00,  8.249e-02,\n",
       "        5.790e-01, -2.126e-02,  1.884e+00,  3.775e-01, -1.304e+00,\n",
       "        1.327e+00, -2.673e-01,  2.574e-01, -2.944e-01,  7.507e-01,\n",
       "        8.512e-01, -5.231e-01,  7.507e-01,  1.692e-01,  1.279e+00,\n",
       "        7.075e-01, -7.833e-01, -2.012e+00,  1.661e+00, -4.309e-01,\n",
       "       -1.223e-01,  1.581e+00, -4.551e-01,  7.250e-01,  5.621e-01,\n",
       "        1.045e+00, -5.466e-01,  2.497e-01,  4.232e-01,  8.810e-01,\n",
       "       -2.498e-01,  1.640e-01, -1.101e+00,  6.672e-01, -1.800e+00,\n",
       "       -8.509e-01, -7.605e-01,  6.576e-01,  6.898e-01, -1.674e+00,\n",
       "        6.503e-01, -1.989e-01,  1.174e-02, -2.752e-01,  7.030e-03,\n",
       "       -1.779e+00,  4.020e-01, -1.796e+00, -1.471e-01,  1.254e+00,\n",
       "       -9.047e-01,  7.946e-01,  1.372e+00,  1.170e+00, -6.810e-01,\n",
       "       -5.083e-01,  1.290e+00, -9.053e-01, -2.655e-01,  2.085e+00,\n",
       "       -7.595e-01, -7.138e-01, -2.625e-01, -5.652e-01, -1.432e-01,\n",
       "        1.040e+00,  1.430e+00,  1.614e-01,  3.210e-01,  7.469e-01,\n",
       "        3.880e-02,  2.057e+00,  3.609e-01,  3.853e-01,  6.908e-01,\n",
       "        8.100e-01,  2.299e+00,  2.155e-01,  6.042e-01, -1.283e+00,\n",
       "        1.022e+00,  1.025e-01,  1.165e+00, -5.837e-01,  1.073e-01,\n",
       "        7.607e-02,  4.133e-01, -1.987e+00,  9.469e-01, -2.307e-01,\n",
       "        9.716e-01,  3.680e-01, -3.725e-01, -1.149e+00,  2.281e-01,\n",
       "        3.702e-01, -3.315e-01,  3.279e-01,  4.004e-01,  6.782e-01,\n",
       "        1.220e-01, -2.467e-01, -9.346e-01,  2.699e-01, -1.856e-01,\n",
       "        7.199e-01,  8.374e-01, -8.864e-01, -1.550e+00, -6.697e-02,\n",
       "        3.032e-02, -8.600e-02, -3.130e-01, -2.339e-01,  7.833e-01,\n",
       "       -4.305e-01,  7.126e-01,  3.740e-01,  4.530e-01,  4.203e-01,\n",
       "        8.432e-01, -1.461e+00, -7.843e-01, -2.598e-01, -1.662e+00,\n",
       "       -1.432e+00, -1.230e-01,  1.957e+00,  6.331e-01, -1.410e-01,\n",
       "       -9.157e-01,  4.672e-01, -1.221e+00, -7.559e-01, -5.205e-01,\n",
       "       -5.713e-01,  6.312e-02,  1.280e+00, -2.256e+00,  6.523e-01,\n",
       "       -4.065e-01,  1.503e+00,  7.045e-01,  1.036e+00, -1.729e-01,\n",
       "       -1.022e+00,  2.162e+00,  9.367e-02, -6.918e-01, -3.109e-01,\n",
       "        8.004e-01,  4.816e-01, -3.587e-01, -1.614e-01,  4.683e-01,\n",
       "        1.494e+00, -2.468e-01,  2.436e-01,  2.001e-01,  1.607e+00,\n",
       "       -6.555e-01, -8.090e-01,  2.257e-02, -4.189e-01, -6.214e-01,\n",
       "       -4.619e-01,  1.025e+00, -1.225e+00,  1.166e+00,  5.404e-01,\n",
       "        4.850e-01,  1.795e-02, -6.605e-01, -2.013e+00,  9.453e-01,\n",
       "       -9.661e-02, -7.404e-01,  1.376e+00,  5.465e-01, -3.310e-01,\n",
       "       -7.298e-01, -4.026e-01, -4.416e-01, -7.841e-01, -1.131e+00,\n",
       "        6.055e-01,  5.794e-01,  1.364e+00, -1.035e-01,  7.584e-01,\n",
       "        1.219e-01, -6.829e-01,  1.398e+00, -2.422e-01, -4.677e-01,\n",
       "       -1.352e+00, -7.157e-02,  6.424e-01, -2.483e-01,  4.519e-01,\n",
       "        3.585e-01,  1.973e-01,  4.033e-01, -2.356e-01, -8.763e-01,\n",
       "       -5.114e-01, -6.510e-01, -6.549e-01,  9.204e-01,  1.242e+00,\n",
       "        1.306e+00, -6.866e-01,  6.303e-01, -1.748e-01,  2.908e+00,\n",
       "       -2.416e+00,  1.654e-01,  8.521e-02,  1.831e-01, -6.553e-02,\n",
       "        9.983e-01,  2.447e-01,  1.604e+00,  4.048e-01, -3.288e-01,\n",
       "        6.096e-01, -2.145e+00, -1.121e+00, -3.957e-01, -5.373e-01,\n",
       "       -1.669e-01, -1.326e-01, -6.666e-01,  6.799e-01, -2.084e-02,\n",
       "        1.354e+00,  6.669e-03, -1.766e+00, -1.163e+00, -1.528e+00,\n",
       "        9.883e-01, -1.549e-02, -5.498e-02,  8.384e-01,  7.640e-02,\n",
       "        9.164e-01, -3.296e-01,  3.576e-01, -5.420e-01,  5.655e-02,\n",
       "        5.056e-01, -7.116e-01,  1.555e-01, -1.113e+00,  1.171e+00,\n",
       "        8.078e-01, -4.300e-01,  1.749e+00, -1.849e-01, -1.607e+00,\n",
       "        2.576e-01,  1.391e-01, -2.242e+00, -8.314e-01,  1.943e+00,\n",
       "        3.289e-01,  1.002e-01, -1.116e+00, -3.866e-01, -6.738e-01,\n",
       "       -3.535e+00,  5.495e-01, -1.474e-01, -5.742e-01,  1.434e+00,\n",
       "       -1.337e+00,  6.790e-01, -7.992e-01,  7.744e-01, -6.759e-01,\n",
       "        2.183e-01,  5.375e-01, -1.580e+00, -1.671e-01, -2.705e+00,\n",
       "        2.660e-01,  3.698e-01, -1.679e-02,  2.601e-01, -6.748e-01,\n",
       "        6.926e-01, -6.367e-01,  2.477e-01, -2.246e-01, -1.437e-01,\n",
       "       -1.820e-01,  5.156e-01,  7.782e-01,  7.284e-01, -1.374e-01,\n",
       "       -1.828e+00, -5.639e-01,  4.950e-01, -1.175e+00,  9.307e-03,\n",
       "        3.612e-01,  1.282e+00,  4.917e-01, -7.113e-01, -8.498e-01,\n",
       "       -2.744e-01,  5.258e-01, -1.776e+00,  4.883e-02,  1.060e-01,\n",
       "        4.674e-01,  1.560e+00,  4.026e-01, -1.339e+00, -5.745e-01,\n",
       "       -2.366e-01,  1.274e+00, -1.580e+00,  1.207e+00,  4.031e-02,\n",
       "        9.191e-01,  7.426e-01,  1.543e+00,  2.344e+00,  1.118e+00])"
      ]
     },
     "execution_count": 55,
     "metadata": {},
     "output_type": "execute_result"
    }
   ],
   "source": [
    "sample = dist.rvs(size = 1000) #muestra\n",
    "sample"
   ]
  },
  {
   "cell_type": "code",
   "execution_count": 56,
   "metadata": {},
   "outputs": [
    {
     "data": {
      "text/plain": [
       "array([-2.326, -2.308, -2.289, -2.27 , -2.252, -2.233, -2.214, -2.196,\n",
       "       -2.177, -2.158, -2.139, -2.121, -2.102, -2.083, -2.065, -2.046,\n",
       "       -2.027, -2.009, -1.99 , -1.971, -1.953, -1.934, -1.915, -1.897,\n",
       "       -1.878, -1.859, -1.841, -1.822, -1.803, -1.784, -1.766, -1.747,\n",
       "       -1.728, -1.71 , -1.691, -1.672, -1.654, -1.635, -1.616, -1.598,\n",
       "       -1.579, -1.56 , -1.542, -1.523, -1.504, -1.485, -1.467, -1.448,\n",
       "       -1.429, -1.411, -1.392, -1.373, -1.355, -1.336, -1.317, -1.299,\n",
       "       -1.28 , -1.261, -1.243, -1.224, -1.205, -1.187, -1.168, -1.149,\n",
       "       -1.13 , -1.112, -1.093, -1.074, -1.056, -1.037, -1.018, -1.   ,\n",
       "       -0.981, -0.962, -0.944, -0.925, -0.906, -0.888, -0.869, -0.85 ,\n",
       "       -0.832, -0.813, -0.794, -0.775, -0.757, -0.738, -0.719, -0.701,\n",
       "       -0.682, -0.663, -0.645, -0.626, -0.607, -0.589, -0.57 , -0.551,\n",
       "       -0.533, -0.514, -0.495, -0.476, -0.458, -0.439, -0.42 , -0.402,\n",
       "       -0.383, -0.364, -0.346, -0.327, -0.308, -0.29 , -0.271, -0.252,\n",
       "       -0.234, -0.215, -0.196, -0.178, -0.159, -0.14 , -0.121, -0.103,\n",
       "       -0.084, -0.065, -0.047, -0.028, -0.009,  0.009,  0.028,  0.047,\n",
       "        0.065,  0.084,  0.103,  0.121,  0.14 ,  0.159,  0.178,  0.196,\n",
       "        0.215,  0.234,  0.252,  0.271,  0.29 ,  0.308,  0.327,  0.346,\n",
       "        0.364,  0.383,  0.402,  0.42 ,  0.439,  0.458,  0.476,  0.495,\n",
       "        0.514,  0.533,  0.551,  0.57 ,  0.589,  0.607,  0.626,  0.645,\n",
       "        0.663,  0.682,  0.701,  0.719,  0.738,  0.757,  0.775,  0.794,\n",
       "        0.813,  0.832,  0.85 ,  0.869,  0.888,  0.906,  0.925,  0.944,\n",
       "        0.962,  0.981,  1.   ,  1.018,  1.037,  1.056,  1.074,  1.093,\n",
       "        1.112,  1.13 ,  1.149,  1.168,  1.187,  1.205,  1.224,  1.243,\n",
       "        1.261,  1.28 ,  1.299,  1.317,  1.336,  1.355,  1.373,  1.392,\n",
       "        1.411,  1.429,  1.448,  1.467,  1.485,  1.504,  1.523,  1.542,\n",
       "        1.56 ,  1.579,  1.598,  1.616,  1.635,  1.654,  1.672,  1.691,\n",
       "        1.71 ,  1.728,  1.747,  1.766,  1.784,  1.803,  1.822,  1.841,\n",
       "        1.859,  1.878,  1.897,  1.915,  1.934,  1.953,  1.971,  1.99 ,\n",
       "        2.009,  2.027,  2.046,  2.065,  2.083,  2.102,  2.121,  2.139,\n",
       "        2.158,  2.177,  2.196,  2.214,  2.233,  2.252,  2.27 ,  2.289,\n",
       "        2.308,  2.326])"
      ]
     },
     "execution_count": 56,
     "metadata": {},
     "output_type": "execute_result"
    }
   ],
   "source": [
    "x = np.linspace(start = stats.norm.ppf(0.01), stop= stats.norm.ppf(0.99), num=250)\n",
    "x"
   ]
  },
  {
   "cell_type": "code",
   "execution_count": 57,
   "metadata": {},
   "outputs": [
    {
     "data": {
      "text/plain": [
       "<scipy.stats._kde.gaussian_kde at 0x203290898c0>"
      ]
     },
     "execution_count": 57,
     "metadata": {},
     "output_type": "execute_result"
    }
   ],
   "source": [
    "gkde = stats.gaussian_kde(dataset= sample)\n",
    "gkde"
   ]
  },
  {
   "cell_type": "code",
   "execution_count": 61,
   "metadata": {},
   "outputs": [
    {
     "data": {
      "text/plain": [
       "Text(-2.0, 0.35, '$f(x) = \\\\frac{e^{-x^2/2}}{\\\\sqrt{2\\\\pi}}$')"
      ]
     },
     "execution_count": 61,
     "metadata": {},
     "output_type": "execute_result"
    },
    {
     "data": {
      "image/png": "[encoded data removed]",
      "text/plain": [
       "<Figure size 640x480 with 1 Axes>"
      ]
     },
     "metadata": {},
     "output_type": "display_data"
    }
   ],
   "source": [
    "fig, ax = plt.subplots()\n",
    "ax.plot(x, dist.pdf(x), linestyle = \"solid\", c = \"red\", lw=3, alpha = 0.8, label = \"Distribucion normal teorica\")\n",
    "ax.plot(x , gkde.evaluate(x), linestyle = \"dashed\", c= \"green\", lw =2, label = \"PDF estimada con KDE\")\n",
    "ax.legend(loc = \"best\", frameon = False)\n",
    "ax.set_title(\"Normal analítica vs estimada\")\n",
    "ax.set_ylabel(\"Probabilidad\")\n",
    "ax.text(-2., 0.35, r'$f(x) = \\frac{e^{-x^2/2}}{\\sqrt{2\\pi}}$', fontsize = 14)"
   ]
  },
  {
   "cell_type": "markdown",
   "metadata": {},
   "source": [
    "## Histogramas con Seaborn"
   ]
  },
  {
   "cell_type": "code",
   "execution_count": 66,
   "metadata": {},
   "outputs": [
    {
     "data": {
      "text/plain": [
       "<seaborn.axisgrid.FacetGrid at 0x2032f23c410>"
      ]
     },
     "execution_count": 66,
     "metadata": {},
     "output_type": "execute_result"
    },
    {
     "data": {
      "image/png": "[encoded data removed]",
      "text/plain": [
       "<Figure size 500x500 with 1 Axes>"
      ]
     },
     "metadata": {},
     "output_type": "display_data"
    }
   ],
   "source": [
    "import seaborn as sns\n",
    "%matplotlib inline \n",
    "sns.set()\n",
    "\n",
    "sns.displot(data)"
   ]
  },
  {
   "cell_type": "code",
   "execution_count": 67,
   "metadata": {},
   "outputs": [
    {
     "data": {
      "text/plain": [
       "<seaborn.axisgrid.FacetGrid at 0x2037fde3ed0>"
      ]
     },
     "execution_count": 67,
     "metadata": {},
     "output_type": "execute_result"
    },
    {
     "data": {
      "image/png": "[encoded data removed]",
      "text/plain": [
       "<Figure size 500x500 with 1 Axes>"
      ]
     },
     "metadata": {},
     "output_type": "display_data"
    }
   ],
   "source": [
    "np.random.seed(2019)\n",
    "x = np.random.laplace(loc=10, scale=3, size=1000)\n",
    "sns.set_style(\"darkgrid\")\n",
    "sns.displot(x)"
   ]
  },
  {
   "cell_type": "code",
   "execution_count": 76,
   "metadata": {},
   "outputs": [
    {
     "name": "stderr",
     "output_type": "stream",
     "text": [
      "C:\\Users\\dg_su\\AppData\\Local\\Temp\\ipykernel_8604\\929158429.py:1: UserWarning: \n",
      "\n",
      "`distplot` is a deprecated function and will be removed in seaborn v0.14.0.\n",
      "\n",
      "Please adapt your code to use either `displot` (a figure-level function with\n",
      "similar flexibility) or `histplot` (an axes-level function for histograms).\n",
      "\n",
      "For a guide to updating your code to use the new functions, please see\n",
      "https://gist.github.com/mwaskom/de44147ed2974457ad6372750bbe5751\n",
      "\n",
      "  sns.distplot(data, fit=stats.laplace, kde=False)\n"
     ]
    },
    {
     "data": {
      "image/png": "[encoded data removed]",
      "text/plain": [
       "<Figure size 640x480 with 1 Axes>"
      ]
     },
     "metadata": {},
     "output_type": "display_data"
    }
   ],
   "source": [
    "sns.distplot(data, fit=stats.laplace, kde=False)\n",
    "plt.show()"
   ]
  },
  {
   "cell_type": "markdown",
   "metadata": {},
   "source": [
    "### Otras formas:"
   ]
  },
  {
   "cell_type": "code",
   "execution_count": 81,
   "metadata": {},
   "outputs": [
    {
     "data": {
      "text/plain": [
       "0       2\n",
       "1       7\n",
       "2       5\n",
       "3       4\n",
       "4       9\n",
       "       ..\n",
       "9995    8\n",
       "9996    8\n",
       "9997    6\n",
       "9998    5\n",
       "9999    7\n",
       "Length: 10000, dtype: int64"
      ]
     },
     "execution_count": 81,
     "metadata": {},
     "output_type": "execute_result"
    }
   ],
   "source": [
    "data2 = np.random.choice(np.arange(10), size = 10000, p = np.linspace(1,11,10)/60)\n",
    "s = pd.Series(data2)\n",
    "s"
   ]
  },
  {
   "cell_type": "code",
   "execution_count": 80,
   "metadata": {},
   "outputs": [
    {
     "data": {
      "text/plain": [
       "9    1817\n",
       "8    1650\n",
       "7    1520\n",
       "6    1288\n",
       "5    1096\n",
       "4     877\n",
       "3     705\n",
       "2     528\n",
       "1     364\n",
       "0     155\n",
       "Name: count, dtype: int64"
      ]
     },
     "execution_count": 80,
     "metadata": {},
     "output_type": "execute_result"
    }
   ],
   "source": [
    "s.value_counts() # frecuencias absolutas:"
   ]
  },
  {
   "cell_type": "code",
   "execution_count": 82,
   "metadata": {},
   "outputs": [
    {
     "data": {
      "text/plain": [
       "9    0.1844\n",
       "8    0.1632\n",
       "7    0.1502\n",
       "6    0.1301\n",
       "5    0.1057\n",
       "4    0.0870\n",
       "3    0.0718\n",
       "2    0.0527\n",
       "1    0.0364\n",
       "0    0.0185\n",
       "Name: proportion, dtype: float64"
      ]
     },
     "execution_count": 82,
     "metadata": {},
     "output_type": "execute_result"
    }
   ],
   "source": [
    "s.value_counts(normalize=True) # frecuencias relativas"
   ]
  },
  {
   "cell_type": "code",
   "execution_count": 84,
   "metadata": {},
   "outputs": [
    {
     "data": {
      "text/plain": [
       "0            infancia\n",
       "1            infancia\n",
       "2            infancia\n",
       "3            infancia\n",
       "4            infancia\n",
       "5            infancia\n",
       "6            infancia\n",
       "7            infancia\n",
       "8     preadolescencia\n",
       "9     preadolescencia\n",
       "10       adolescencia\n",
       "11       adolescencia\n",
       "12       adolescencia\n",
       "13      universitario\n",
       "14             adulto\n",
       "15             adulto\n",
       "16             adulto\n",
       "17             adulto\n",
       "18             adulto\n",
       "dtype: category\n",
       "Categories (5, object): ['infancia' < 'preadolescencia' < 'adolescencia' < 'universitario' < 'adulto']"
      ]
     },
     "execution_count": 84,
     "metadata": {},
     "output_type": "execute_result"
    }
   ],
   "source": [
    "age = pd.Series([1,1,3,5,6,8,9,10,12,15,18,18,18,20,25,30,40,51,52])\n",
    "bins = (0,10,15,18,21, np.inf)\n",
    "labels = ('infancia', 'preadolescencia', 'adolescencia', 'universitario', 'adulto')\n",
    "groups = pd.cut(age, bins= bins, labels= labels)\n",
    "groups"
   ]
  },
  {
   "cell_type": "code",
   "execution_count": 85,
   "metadata": {},
   "outputs": [
    {
     "data": {
      "text/plain": [
       "infancia           8\n",
       "adulto             5\n",
       "adolescencia       3\n",
       "preadolescencia    2\n",
       "universitario      1\n",
       "Name: count, dtype: int64"
      ]
     },
     "execution_count": 85,
     "metadata": {},
     "output_type": "execute_result"
    }
   ],
   "source": [
    "groups.value_counts() # frecuencia absoluta"
   ]
  },
  {
   "cell_type": "code",
   "execution_count": 86,
   "metadata": {},
   "outputs": [
    {
     "data": {
      "text/plain": [
       "infancia           0.421053\n",
       "adulto             0.263158\n",
       "adolescencia       0.157895\n",
       "preadolescencia    0.105263\n",
       "universitario      0.052632\n",
       "Name: proportion, dtype: float64"
      ]
     },
     "execution_count": 86,
     "metadata": {},
     "output_type": "execute_result"
    }
   ],
   "source": [
    "groups.value_counts(normalize=True) #frecuencia relativa"
   ]
  },
  {
   "cell_type": "code",
   "execution_count": 90,
   "metadata": {},
   "outputs": [
    {
     "data": {
      "text/html": [
       "<div>\n",
       "<style scoped>\n",
       "    .dataframe tbody tr th:only-of-type {\n",
       "        vertical-align: middle;\n",
       "    }\n",
       "\n",
       "    .dataframe tbody tr th {\n",
       "        vertical-align: top;\n",
       "    }\n",
       "\n",
       "    .dataframe thead th {\n",
       "        text-align: right;\n",
       "    }\n",
       "</style>\n",
       "<table border=\"1\" class=\"dataframe\">\n",
       "  <thead>\n",
       "    <tr style=\"text-align: right;\">\n",
       "      <th></th>\n",
       "      <th>0</th>\n",
       "      <th>1</th>\n",
       "    </tr>\n",
       "  </thead>\n",
       "  <tbody>\n",
       "    <tr>\n",
       "      <th>0</th>\n",
       "      <td>1</td>\n",
       "      <td>infancia</td>\n",
       "    </tr>\n",
       "    <tr>\n",
       "      <th>1</th>\n",
       "      <td>1</td>\n",
       "      <td>infancia</td>\n",
       "    </tr>\n",
       "    <tr>\n",
       "      <th>2</th>\n",
       "      <td>3</td>\n",
       "      <td>infancia</td>\n",
       "    </tr>\n",
       "    <tr>\n",
       "      <th>3</th>\n",
       "      <td>5</td>\n",
       "      <td>infancia</td>\n",
       "    </tr>\n",
       "    <tr>\n",
       "      <th>4</th>\n",
       "      <td>6</td>\n",
       "      <td>infancia</td>\n",
       "    </tr>\n",
       "    <tr>\n",
       "      <th>5</th>\n",
       "      <td>8</td>\n",
       "      <td>infancia</td>\n",
       "    </tr>\n",
       "    <tr>\n",
       "      <th>6</th>\n",
       "      <td>9</td>\n",
       "      <td>infancia</td>\n",
       "    </tr>\n",
       "    <tr>\n",
       "      <th>7</th>\n",
       "      <td>10</td>\n",
       "      <td>infancia</td>\n",
       "    </tr>\n",
       "    <tr>\n",
       "      <th>8</th>\n",
       "      <td>12</td>\n",
       "      <td>preadolescencia</td>\n",
       "    </tr>\n",
       "    <tr>\n",
       "      <th>9</th>\n",
       "      <td>15</td>\n",
       "      <td>preadolescencia</td>\n",
       "    </tr>\n",
       "    <tr>\n",
       "      <th>10</th>\n",
       "      <td>18</td>\n",
       "      <td>adolescencia</td>\n",
       "    </tr>\n",
       "    <tr>\n",
       "      <th>11</th>\n",
       "      <td>18</td>\n",
       "      <td>adolescencia</td>\n",
       "    </tr>\n",
       "    <tr>\n",
       "      <th>12</th>\n",
       "      <td>18</td>\n",
       "      <td>adolescencia</td>\n",
       "    </tr>\n",
       "    <tr>\n",
       "      <th>13</th>\n",
       "      <td>20</td>\n",
       "      <td>universitario</td>\n",
       "    </tr>\n",
       "    <tr>\n",
       "      <th>14</th>\n",
       "      <td>25</td>\n",
       "      <td>adulto</td>\n",
       "    </tr>\n",
       "    <tr>\n",
       "      <th>15</th>\n",
       "      <td>30</td>\n",
       "      <td>adulto</td>\n",
       "    </tr>\n",
       "    <tr>\n",
       "      <th>16</th>\n",
       "      <td>40</td>\n",
       "      <td>adulto</td>\n",
       "    </tr>\n",
       "    <tr>\n",
       "      <th>17</th>\n",
       "      <td>51</td>\n",
       "      <td>adulto</td>\n",
       "    </tr>\n",
       "    <tr>\n",
       "      <th>18</th>\n",
       "      <td>52</td>\n",
       "      <td>adulto</td>\n",
       "    </tr>\n",
       "  </tbody>\n",
       "</table>\n",
       "</div>"
      ],
      "text/plain": [
       "     0                1\n",
       "0    1         infancia\n",
       "1    1         infancia\n",
       "2    3         infancia\n",
       "3    5         infancia\n",
       "4    6         infancia\n",
       "5    8         infancia\n",
       "6    9         infancia\n",
       "7   10         infancia\n",
       "8   12  preadolescencia\n",
       "9   15  preadolescencia\n",
       "10  18     adolescencia\n",
       "11  18     adolescencia\n",
       "12  18     adolescencia\n",
       "13  20    universitario\n",
       "14  25           adulto\n",
       "15  30           adulto\n",
       "16  40           adulto\n",
       "17  51           adulto\n",
       "18  52           adulto"
      ]
     },
     "execution_count": 90,
     "metadata": {},
     "output_type": "execute_result"
    }
   ],
   "source": [
    "pd.concat((age, groups),axis=1)"
   ]
  },
  {
   "cell_type": "code",
   "execution_count": 91,
   "metadata": {},
   "outputs": [
    {
     "data": {
      "text/html": [
       "<div>\n",
       "<style scoped>\n",
       "    .dataframe tbody tr th:only-of-type {\n",
       "        vertical-align: middle;\n",
       "    }\n",
       "\n",
       "    .dataframe tbody tr th {\n",
       "        vertical-align: top;\n",
       "    }\n",
       "\n",
       "    .dataframe thead th {\n",
       "        text-align: right;\n",
       "    }\n",
       "</style>\n",
       "<table border=\"1\" class=\"dataframe\">\n",
       "  <thead>\n",
       "    <tr style=\"text-align: right;\">\n",
       "      <th></th>\n",
       "      <th>age</th>\n",
       "      <th>group</th>\n",
       "    </tr>\n",
       "  </thead>\n",
       "  <tbody>\n",
       "    <tr>\n",
       "      <th>0</th>\n",
       "      <td>1</td>\n",
       "      <td>infancia</td>\n",
       "    </tr>\n",
       "    <tr>\n",
       "      <th>1</th>\n",
       "      <td>1</td>\n",
       "      <td>infancia</td>\n",
       "    </tr>\n",
       "    <tr>\n",
       "      <th>2</th>\n",
       "      <td>3</td>\n",
       "      <td>infancia</td>\n",
       "    </tr>\n",
       "    <tr>\n",
       "      <th>3</th>\n",
       "      <td>5</td>\n",
       "      <td>infancia</td>\n",
       "    </tr>\n",
       "    <tr>\n",
       "      <th>4</th>\n",
       "      <td>6</td>\n",
       "      <td>infancia</td>\n",
       "    </tr>\n",
       "    <tr>\n",
       "      <th>5</th>\n",
       "      <td>8</td>\n",
       "      <td>infancia</td>\n",
       "    </tr>\n",
       "    <tr>\n",
       "      <th>6</th>\n",
       "      <td>9</td>\n",
       "      <td>infancia</td>\n",
       "    </tr>\n",
       "    <tr>\n",
       "      <th>7</th>\n",
       "      <td>10</td>\n",
       "      <td>infancia</td>\n",
       "    </tr>\n",
       "    <tr>\n",
       "      <th>8</th>\n",
       "      <td>12</td>\n",
       "      <td>preadolescencia</td>\n",
       "    </tr>\n",
       "    <tr>\n",
       "      <th>9</th>\n",
       "      <td>15</td>\n",
       "      <td>preadolescencia</td>\n",
       "    </tr>\n",
       "    <tr>\n",
       "      <th>10</th>\n",
       "      <td>18</td>\n",
       "      <td>adolescencia</td>\n",
       "    </tr>\n",
       "    <tr>\n",
       "      <th>11</th>\n",
       "      <td>18</td>\n",
       "      <td>adolescencia</td>\n",
       "    </tr>\n",
       "    <tr>\n",
       "      <th>12</th>\n",
       "      <td>18</td>\n",
       "      <td>adolescencia</td>\n",
       "    </tr>\n",
       "    <tr>\n",
       "      <th>13</th>\n",
       "      <td>20</td>\n",
       "      <td>universitario</td>\n",
       "    </tr>\n",
       "    <tr>\n",
       "      <th>14</th>\n",
       "      <td>25</td>\n",
       "      <td>adulto</td>\n",
       "    </tr>\n",
       "    <tr>\n",
       "      <th>15</th>\n",
       "      <td>30</td>\n",
       "      <td>adulto</td>\n",
       "    </tr>\n",
       "    <tr>\n",
       "      <th>16</th>\n",
       "      <td>40</td>\n",
       "      <td>adulto</td>\n",
       "    </tr>\n",
       "    <tr>\n",
       "      <th>17</th>\n",
       "      <td>51</td>\n",
       "      <td>adulto</td>\n",
       "    </tr>\n",
       "    <tr>\n",
       "      <th>18</th>\n",
       "      <td>52</td>\n",
       "      <td>adulto</td>\n",
       "    </tr>\n",
       "  </tbody>\n",
       "</table>\n",
       "</div>"
      ],
      "text/plain": [
       "    age            group\n",
       "0     1         infancia\n",
       "1     1         infancia\n",
       "2     3         infancia\n",
       "3     5         infancia\n",
       "4     6         infancia\n",
       "5     8         infancia\n",
       "6     9         infancia\n",
       "7    10         infancia\n",
       "8    12  preadolescencia\n",
       "9    15  preadolescencia\n",
       "10   18     adolescencia\n",
       "11   18     adolescencia\n",
       "12   18     adolescencia\n",
       "13   20    universitario\n",
       "14   25           adulto\n",
       "15   30           adulto\n",
       "16   40           adulto\n",
       "17   51           adulto\n",
       "18   52           adulto"
      ]
     },
     "execution_count": 91,
     "metadata": {},
     "output_type": "execute_result"
    }
   ],
   "source": [
    "pd.concat((age, groups),axis=1).rename(columns={0:'age', 1:'group'})"
   ]
  },
  {
   "cell_type": "code",
   "execution_count": null,
   "metadata": {},
   "outputs": [],
   "source": []
  }
 ],
 "metadata": {
  "kernelspec": {
   "display_name": "Python 3",
   "language": "python",
   "name": "python3"
  },
  "language_info": {
   "codemirror_mode": {
    "name": "ipython",
    "version": 3
   },
   "file_extension": ".py",
   "mimetype": "text/x-python",
   "name": "python",
   "nbconvert_exporter": "python",
   "pygments_lexer": "ipython3",
   "version": "3.13.1"
  }
 },
 "nbformat": 4,
 "nbformat_minor": 2
}
